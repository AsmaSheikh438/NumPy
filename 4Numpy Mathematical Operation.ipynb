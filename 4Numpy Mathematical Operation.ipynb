{
 "cells": [
  {
   "cell_type": "markdown",
   "id": "b1ed2c82-d9ef-4243-bbc3-6ea7b7b5c0ac",
   "metadata": {},
   "source": [
    "### Numpy Mathematical Operation"
   ]
  },
  {
   "cell_type": "code",
   "execution_count": 1,
   "id": "f8f9c2c1-fd5c-4de7-9913-9519570d0bd4",
   "metadata": {},
   "outputs": [],
   "source": [
    "import numpy as np"
   ]
  },
  {
   "cell_type": "code",
   "execution_count": 2,
   "id": "fe5ae8c7-e65a-4914-ab69-51764c84241a",
   "metadata": {},
   "outputs": [
    {
     "name": "stdout",
     "output_type": "stream",
     "text": [
      "[[ 0  1  2]\n",
      " [ 3  4  5]\n",
      " [ 6  7  8]\n",
      " [ 9 10 11]\n",
      " [12 13 14]\n",
      " [15 16 17]]\n",
      "[[20 21 22]\n",
      " [23 24 25]\n",
      " [26 27 28]\n",
      " [29 30 31]\n",
      " [32 33 34]\n",
      " [35 36 37]]\n"
     ]
    }
   ],
   "source": [
    "a = np.arange(0,18).reshape((6,3))\n",
    "b = np.arange(20,38).reshape((6,3))\n",
    "\n",
    "print(a)\n",
    "print(b)"
   ]
  },
  {
   "cell_type": "markdown",
   "id": "cbe02d67-bd65-49e4-bbf5-2c3b8f4c3f0e",
   "metadata": {},
   "source": [
    "#### Add()"
   ]
  },
  {
   "cell_type": "code",
   "execution_count": 3,
   "id": "e7872597-9d77-4918-babf-4bf727468f0a",
   "metadata": {},
   "outputs": [
    {
     "data": {
      "text/plain": [
       "array([[20, 22, 24],\n",
       "       [26, 28, 30],\n",
       "       [32, 34, 36],\n",
       "       [38, 40, 42],\n",
       "       [44, 46, 48],\n",
       "       [50, 52, 54]])"
      ]
     },
     "execution_count": 3,
     "metadata": {},
     "output_type": "execute_result"
    }
   ],
   "source": [
    "# Addition\n",
    "np.add(a,b)"
   ]
  },
  {
   "cell_type": "code",
   "execution_count": 4,
   "id": "1747d2e1-7ff0-4a10-81f2-956e399baa4c",
   "metadata": {},
   "outputs": [
    {
     "data": {
      "text/plain": [
       "array([[20, 22, 24],\n",
       "       [26, 28, 30],\n",
       "       [32, 34, 36],\n",
       "       [38, 40, 42],\n",
       "       [44, 46, 48],\n",
       "       [50, 52, 54]])"
      ]
     },
     "execution_count": 4,
     "metadata": {},
     "output_type": "execute_result"
    }
   ],
   "source": [
    "a+b"
   ]
  },
  {
   "cell_type": "markdown",
   "id": "6a67c145-70a8-4318-b809-7d945b9d88a8",
   "metadata": {},
   "source": [
    "#### Subtract()"
   ]
  },
  {
   "cell_type": "code",
   "execution_count": 5,
   "id": "169da874-4c63-40dd-8be5-5b7cfbadd67c",
   "metadata": {},
   "outputs": [
    {
     "data": {
      "text/plain": [
       "array([[-20, -20, -20],\n",
       "       [-20, -20, -20],\n",
       "       [-20, -20, -20],\n",
       "       [-20, -20, -20],\n",
       "       [-20, -20, -20],\n",
       "       [-20, -20, -20]])"
      ]
     },
     "execution_count": 5,
     "metadata": {},
     "output_type": "execute_result"
    }
   ],
   "source": [
    "# Subtraction\n",
    "np.subtract(a,b)"
   ]
  },
  {
   "cell_type": "code",
   "execution_count": 6,
   "id": "58fbeee5-d1a1-4260-ad9a-f8ae0c7cdad4",
   "metadata": {},
   "outputs": [
    {
     "data": {
      "text/plain": [
       "array([[-20, -20, -20],\n",
       "       [-20, -20, -20],\n",
       "       [-20, -20, -20],\n",
       "       [-20, -20, -20],\n",
       "       [-20, -20, -20],\n",
       "       [-20, -20, -20]])"
      ]
     },
     "execution_count": 6,
     "metadata": {},
     "output_type": "execute_result"
    }
   ],
   "source": [
    "a-b"
   ]
  },
  {
   "cell_type": "code",
   "execution_count": 7,
   "id": "3c9a96ef-d30f-419e-9c88-d51bee544aa0",
   "metadata": {},
   "outputs": [],
   "source": [
    "#### "
   ]
  },
  {
   "cell_type": "code",
   "execution_count": 8,
   "id": "3303ec07-d233-418b-b498-b3133c6648d6",
   "metadata": {},
   "outputs": [
    {
     "data": {
      "text/plain": [
       "array([[  0,  21,  44],\n",
       "       [ 69,  96, 125],\n",
       "       [156, 189, 224],\n",
       "       [261, 300, 341],\n",
       "       [384, 429, 476],\n",
       "       [525, 576, 629]])"
      ]
     },
     "execution_count": 8,
     "metadata": {},
     "output_type": "execute_result"
    }
   ],
   "source": [
    "# Multiplication\n",
    "a*b"
   ]
  },
  {
   "cell_type": "markdown",
   "id": "2241c0f9-ce13-407a-8faf-2f9baa2f0c0e",
   "metadata": {},
   "source": [
    "#### Division"
   ]
  },
  {
   "cell_type": "code",
   "execution_count": 9,
   "id": "9b9ab5e4-d537-42b2-b3d8-39f0984136c0",
   "metadata": {},
   "outputs": [
    {
     "data": {
      "text/plain": [
       "array([[ 0,  1,  2],\n",
       "       [ 3,  4,  5],\n",
       "       [ 6,  7,  8],\n",
       "       [ 9, 10, 11],\n",
       "       [12, 13, 14],\n",
       "       [15, 16, 17]])"
      ]
     },
     "execution_count": 9,
     "metadata": {},
     "output_type": "execute_result"
    }
   ],
   "source": [
    "# Division\n",
    "a%b"
   ]
  },
  {
   "cell_type": "code",
   "execution_count": 10,
   "id": "6c8de7ad-bb5c-41ea-a2dc-f120537ab750",
   "metadata": {},
   "outputs": [
    {
     "data": {
      "text/plain": [
       "array([[0.        , 0.04761905, 0.09090909],\n",
       "       [0.13043478, 0.16666667, 0.2       ],\n",
       "       [0.23076923, 0.25925926, 0.28571429],\n",
       "       [0.31034483, 0.33333333, 0.35483871],\n",
       "       [0.375     , 0.39393939, 0.41176471],\n",
       "       [0.42857143, 0.44444444, 0.45945946]])"
      ]
     },
     "execution_count": 10,
     "metadata": {},
     "output_type": "execute_result"
    }
   ],
   "source": [
    "a/b"
   ]
  },
  {
   "cell_type": "markdown",
   "id": "f620a576-6881-491d-aeb2-503c7339a060",
   "metadata": {},
   "source": [
    "#### Matrix Multiplication\n",
    "For matrix multiplication the the column no. of the first array and the row no. of the second array should be same(identical)."
   ]
  },
  {
   "cell_type": "code",
   "execution_count": 11,
   "id": "6d6fcb29-e1d0-45ca-bcd0-ac0f31119b10",
   "metadata": {},
   "outputs": [
    {
     "name": "stdout",
     "output_type": "stream",
     "text": [
      "(6, 3)\n",
      "(6, 3)\n"
     ]
    }
   ],
   "source": [
    "# Finding the shape of array, a and b\n",
    "\n",
    "print(a.shape)\n",
    "print(b.shape)"
   ]
  },
  {
   "cell_type": "code",
   "execution_count": 12,
   "id": "34885d2d-d4c0-49dd-8852-fddb0b599e7c",
   "metadata": {},
   "outputs": [
    {
     "data": {
      "text/plain": [
       "array([[20, 21, 22, 23, 24, 25],\n",
       "       [26, 27, 28, 29, 30, 31],\n",
       "       [32, 33, 34, 35, 36, 37]])"
      ]
     },
     "execution_count": 12,
     "metadata": {},
     "output_type": "execute_result"
    }
   ],
   "source": [
    "# Reshape the array\n",
    "\n",
    "b = b.reshape((3,6))\n",
    "b\n"
   ]
  },
  {
   "cell_type": "code",
   "execution_count": 13,
   "id": "2fbc6c10-e053-463c-b72d-4724b09ddec7",
   "metadata": {},
   "outputs": [
    {
     "data": {
      "text/plain": [
       "array([[  90,   93,   96,   99,  102,  105],\n",
       "       [ 324,  336,  348,  360,  372,  384],\n",
       "       [ 558,  579,  600,  621,  642,  663],\n",
       "       [ 792,  822,  852,  882,  912,  942],\n",
       "       [1026, 1065, 1104, 1143, 1182, 1221],\n",
       "       [1260, 1308, 1356, 1404, 1452, 1500]])"
      ]
     },
     "execution_count": 13,
     "metadata": {},
     "output_type": "execute_result"
    }
   ],
   "source": [
    "# now we can apply matrix multiplication\n",
    "\n",
    "a@b"
   ]
  },
  {
   "cell_type": "code",
   "execution_count": 14,
   "id": "7405c53b-f052-4afd-8711-e730835db499",
   "metadata": {},
   "outputs": [
    {
     "data": {
      "text/plain": [
       "array([[  90,   93,   96,   99,  102,  105],\n",
       "       [ 324,  336,  348,  360,  372,  384],\n",
       "       [ 558,  579,  600,  621,  642,  663],\n",
       "       [ 792,  822,  852,  882,  912,  942],\n",
       "       [1026, 1065, 1104, 1143, 1182, 1221],\n",
       "       [1260, 1308, 1356, 1404, 1452, 1500]])"
      ]
     },
     "execution_count": 14,
     "metadata": {},
     "output_type": "execute_result"
    }
   ],
   "source": [
    "a.dot(b)"
   ]
  },
  {
   "cell_type": "markdown",
   "id": "77570b7b-10b4-41c6-896b-d5d618c7a948",
   "metadata": {},
   "source": [
    "#### Max()"
   ]
  },
  {
   "cell_type": "code",
   "execution_count": 15,
   "id": "9c4c9ea1-f34a-444e-9786-fb849e317417",
   "metadata": {},
   "outputs": [
    {
     "data": {
      "text/plain": [
       "37"
      ]
     },
     "execution_count": 15,
     "metadata": {},
     "output_type": "execute_result"
    }
   ],
   "source": [
    "# maximum element present in that array\n",
    "b.max()"
   ]
  },
  {
   "cell_type": "markdown",
   "id": "b807475f-67ea-43b6-83c2-a693e21d7965",
   "metadata": {},
   "source": [
    "#### Min()"
   ]
  },
  {
   "cell_type": "code",
   "execution_count": 16,
   "id": "b5fa6656-febf-4300-b7a9-abafda679064",
   "metadata": {},
   "outputs": [
    {
     "data": {
      "text/plain": [
       "20"
      ]
     },
     "execution_count": 16,
     "metadata": {},
     "output_type": "execute_result"
    }
   ],
   "source": [
    "# minimum element present in that array\n",
    "b.min()"
   ]
  },
  {
   "cell_type": "markdown",
   "id": "1e2dc1a0-afdc-4d49-97ee-1b9d346e66c6",
   "metadata": {},
   "source": [
    "#### Argmax()"
   ]
  },
  {
   "cell_type": "code",
   "execution_count": 17,
   "id": "6829e25b-5f16-4791-b4c5-ea722c9e4c50",
   "metadata": {},
   "outputs": [
    {
     "data": {
      "text/plain": [
       "17"
      ]
     },
     "execution_count": 17,
     "metadata": {},
     "output_type": "execute_result"
    }
   ],
   "source": [
    "# finding  index of that maximum  value \n",
    "# 37 is present at index 17 in b.\n",
    "\n",
    "b.argmax()"
   ]
  },
  {
   "cell_type": "markdown",
   "id": "dfeecb1f-e476-4880-bcf9-df99160d72b5",
   "metadata": {},
   "source": [
    "#### Sum()"
   ]
  },
  {
   "cell_type": "code",
   "execution_count": 18,
   "id": "b41e205a-5a29-4eac-a994-beb1a927b009",
   "metadata": {},
   "outputs": [
    {
     "data": {
      "text/plain": [
       "513"
      ]
     },
     "execution_count": 18,
     "metadata": {},
     "output_type": "execute_result"
    }
   ],
   "source": [
    "# sum of all the elements present in the array\n",
    "\n",
    "np.sum(b)"
   ]
  },
  {
   "cell_type": "code",
   "execution_count": 19,
   "id": "4181dd4b-1b0b-45c0-b844-3d2b6817d11d",
   "metadata": {},
   "outputs": [
    {
     "data": {
      "text/plain": [
       "array([135, 171, 207])"
      ]
     },
     "execution_count": 19,
     "metadata": {},
     "output_type": "execute_result"
    }
   ],
   "source": [
    "# sum of each and every rows\n",
    "# axis 1 means rows\n",
    "# first rows sum value is 135, second is 171, third is 207\n",
    "\n",
    "np.sum(b,axis = 1)"
   ]
  },
  {
   "cell_type": "code",
   "execution_count": 20,
   "id": "fee830c5-ba00-4e1b-91fe-66b8675beb80",
   "metadata": {},
   "outputs": [
    {
     "data": {
      "text/plain": [
       "array([78, 81, 84, 87, 90, 93])"
      ]
     },
     "execution_count": 20,
     "metadata": {},
     "output_type": "execute_result"
    }
   ],
   "source": [
    "# sum of each and every rows\n",
    "# Axis 0 means columns\n",
    "# 1,2,3,4,5,columns sum values is 78,81,84,87,90,93 respectively.\n",
    "\n",
    "np.sum(b,axis = 0)"
   ]
  },
  {
   "cell_type": "markdown",
   "id": "6de3566c-8d4a-4ace-80ae-09a7e86e63ba",
   "metadata": {},
   "source": [
    "#### Mean()"
   ]
  },
  {
   "cell_type": "code",
   "execution_count": 21,
   "id": "16c7494b-3cf3-48cb-9c87-ab7e9783e084",
   "metadata": {},
   "outputs": [
    {
     "data": {
      "text/plain": [
       "28.5"
      ]
     },
     "execution_count": 21,
     "metadata": {},
     "output_type": "execute_result"
    }
   ],
   "source": [
    "np.mean(b)"
   ]
  },
  {
   "cell_type": "markdown",
   "id": "751a717d-89b3-47f0-92c4-857685017eb1",
   "metadata": {},
   "source": [
    "#### Median()"
   ]
  },
  {
   "cell_type": "code",
   "execution_count": 22,
   "id": "d4de705c-843a-4d21-885b-703c089c32b5",
   "metadata": {},
   "outputs": [
    {
     "data": {
      "text/plain": [
       "28.5"
      ]
     },
     "execution_count": 22,
     "metadata": {},
     "output_type": "execute_result"
    }
   ],
   "source": [
    "np.median(b)"
   ]
  },
  {
   "cell_type": "markdown",
   "id": "d1b97430-f4d4-468c-9306-7e0f2d1d513c",
   "metadata": {},
   "source": [
    "#### Sqrt()"
   ]
  },
  {
   "cell_type": "code",
   "execution_count": 23,
   "id": "6e5be894-986d-4da1-9449-b205accccab4",
   "metadata": {},
   "outputs": [
    {
     "data": {
      "text/plain": [
       "array([[4.47213595, 4.58257569, 4.69041576, 4.79583152, 4.89897949,\n",
       "        5.        ],\n",
       "       [5.09901951, 5.19615242, 5.29150262, 5.38516481, 5.47722558,\n",
       "        5.56776436],\n",
       "       [5.65685425, 5.74456265, 5.83095189, 5.91607978, 6.        ,\n",
       "        6.08276253]])"
      ]
     },
     "execution_count": 23,
     "metadata": {},
     "output_type": "execute_result"
    }
   ],
   "source": [
    "np.sqrt(b)"
   ]
  },
  {
   "cell_type": "markdown",
   "id": "c01e28ec-bfaa-40d1-9cdf-30b91cb34d60",
   "metadata": {},
   "source": [
    "#### Std()"
   ]
  },
  {
   "cell_type": "code",
   "execution_count": 24,
   "id": "0ef1e1f8-6f42-48c8-964f-994317305f12",
   "metadata": {},
   "outputs": [
    {
     "data": {
      "text/plain": [
       "5.188127472091127"
      ]
     },
     "execution_count": 24,
     "metadata": {},
     "output_type": "execute_result"
    }
   ],
   "source": [
    "np.std(b)"
   ]
  },
  {
   "cell_type": "markdown",
   "id": "a1d2acfe-4652-42b6-8aed-574abc518897",
   "metadata": {},
   "source": [
    "#### Log()"
   ]
  },
  {
   "cell_type": "code",
   "execution_count": 25,
   "id": "17f0fe0b-512a-4556-b46a-b965a93eb563",
   "metadata": {},
   "outputs": [
    {
     "data": {
      "text/plain": [
       "array([[2.99573227, 3.04452244, 3.09104245, 3.13549422, 3.17805383,\n",
       "        3.21887582],\n",
       "       [3.25809654, 3.29583687, 3.33220451, 3.36729583, 3.40119738,\n",
       "        3.4339872 ],\n",
       "       [3.4657359 , 3.49650756, 3.52636052, 3.55534806, 3.58351894,\n",
       "        3.61091791]])"
      ]
     },
     "execution_count": 25,
     "metadata": {},
     "output_type": "execute_result"
    }
   ],
   "source": [
    "np.log(b)"
   ]
  }
 ],
 "metadata": {
  "kernelspec": {
   "display_name": "Python 3 (ipykernel)",
   "language": "python",
   "name": "python3"
  },
  "language_info": {
   "codemirror_mode": {
    "name": "ipython",
    "version": 3
   },
   "file_extension": ".py",
   "mimetype": "text/x-python",
   "name": "python",
   "nbconvert_exporter": "python",
   "pygments_lexer": "ipython3",
   "version": "3.12.5"
  }
 },
 "nbformat": 4,
 "nbformat_minor": 5
}
