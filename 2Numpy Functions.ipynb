{
 "cells": [
  {
   "cell_type": "markdown",
   "id": "4a71e50b-3a5f-40be-b8a9-6b99f8b551fd",
   "metadata": {},
   "source": [
    "## Some basic functions and operation"
   ]
  },
  {
   "cell_type": "markdown",
   "id": "96192c11-a898-4450-84d9-4cf333a256cd",
   "metadata": {},
   "source": [
    "### Transpose()\n",
    "##### arr.transpose()\n",
    "\n",
    "It transpose (convert) Rows into Columns and Columns into Rows."
   ]
  },
  {
   "cell_type": "raw",
   "id": "68bff6c7-351e-4c04-b4d3-9025e00d399c",
   "metadata": {},
   "source": [
    "d.transpose()"
   ]
  },
  {
   "cell_type": "code",
   "execution_count": 1,
   "id": "e79ac352-a1d6-4bfc-987b-1274598e9e63",
   "metadata": {},
   "outputs": [],
   "source": [
    "import numpy as np"
   ]
  },
  {
   "cell_type": "code",
   "execution_count": 2,
   "id": "88f32e36-64b3-467c-80c6-ade9c9ef683f",
   "metadata": {},
   "outputs": [],
   "source": [
    "# creating an Array first\n",
    "d = np.array([[[1,2,3,4,5],\n",
    "               [6,7,8.1,9,10],\n",
    "               [11,12,13,14,15]]])"
   ]
  },
  {
   "cell_type": "code",
   "execution_count": 3,
   "id": "09212eae-3989-4132-9ab7-749c0b164a0c",
   "metadata": {},
   "outputs": [
    {
     "data": {
      "text/plain": [
       "array([[[ 1. ],\n",
       "        [ 6. ],\n",
       "        [11. ]],\n",
       "\n",
       "       [[ 2. ],\n",
       "        [ 7. ],\n",
       "        [12. ]],\n",
       "\n",
       "       [[ 3. ],\n",
       "        [ 8.1],\n",
       "        [13. ]],\n",
       "\n",
       "       [[ 4. ],\n",
       "        [ 9. ],\n",
       "        [14. ]],\n",
       "\n",
       "       [[ 5. ],\n",
       "        [10. ],\n",
       "        [15. ]]])"
      ]
     },
     "execution_count": 3,
     "metadata": {},
     "output_type": "execute_result"
    }
   ],
   "source": [
    "d.transpose()"
   ]
  },
  {
   "cell_type": "markdown",
   "id": "93fc2e62-bd03-42c4-a8ff-6b4311467213",
   "metadata": {},
   "source": [
    "### np.empty()\n",
    "np.empty((rows,cols),dtype)"
   ]
  },
  {
   "cell_type": "code",
   "execution_count": 4,
   "id": "9a19da1c-41d9-4a8f-b3ee-95057f152b80",
   "metadata": {},
   "outputs": [],
   "source": [
    "# np.empty contains only two parameters That is (Tuples) and (data type)\n",
    "# Tuples are here is (rows,cols)"
   ]
  },
  {
   "cell_type": "code",
   "execution_count": 5,
   "id": "dbc6d5d1-c584-457f-9abb-388c9286773c",
   "metadata": {},
   "outputs": [
    {
     "data": {
      "text/plain": [
       "array([[0, 0, 0, 0],\n",
       "       [0, 0, 0, 0],\n",
       "       [0, 0, 0, 0],\n",
       "       [0, 0, 0, 0]])"
      ]
     },
     "execution_count": 5,
     "metadata": {},
     "output_type": "execute_result"
    }
   ],
   "source": [
    "np.empty((4,4), dtype = int)"
   ]
  },
  {
   "cell_type": "code",
   "execution_count": 6,
   "id": "86d5ff82-09a5-46f6-b86f-3e1dc2f5ec8d",
   "metadata": {},
   "outputs": [
    {
     "data": {
      "text/plain": [
       "array([[6.23042070e-307, 4.67296746e-307, 1.69121096e-306,\n",
       "        1.29062093e-306],\n",
       "       [8.34441742e-308, 1.78022342e-306, 6.23058028e-307,\n",
       "        9.79107872e-307],\n",
       "       [6.89807188e-307, 7.56594375e-307, 6.23060065e-307,\n",
       "        1.78021527e-306],\n",
       "       [8.34454050e-308, 1.11261027e-306, 1.15706896e-306,\n",
       "        1.33512173e-306]])"
      ]
     },
     "execution_count": 6,
     "metadata": {},
     "output_type": "execute_result"
    }
   ],
   "source": [
    "np.empty((4,4), dtype = float)"
   ]
  },
  {
   "cell_type": "markdown",
   "id": "928a5e3f-85af-4117-a76b-d7a257f6c29e",
   "metadata": {},
   "source": [
    "### np.ones()\n",
    "np.ones(rows,cols),dtype)"
   ]
  },
  {
   "cell_type": "code",
   "execution_count": 7,
   "id": "c6b0b7dd-485b-4329-9d4d-8fcef365de2e",
   "metadata": {},
   "outputs": [
    {
     "data": {
      "text/plain": [
       "array([1., 1., 1., 1., 1., 1.])"
      ]
     },
     "execution_count": 7,
     "metadata": {},
     "output_type": "execute_result"
    }
   ],
   "source": [
    "x = np.ones(6)\n",
    "x"
   ]
  },
  {
   "cell_type": "code",
   "execution_count": 8,
   "id": "317aacee-15af-4de5-999f-a158072a3693",
   "metadata": {},
   "outputs": [
    {
     "data": {
      "text/plain": [
       "array([[1., 1., 1., 1., 1.],\n",
       "       [1., 1., 1., 1., 1.],\n",
       "       [1., 1., 1., 1., 1.]])"
      ]
     },
     "execution_count": 8,
     "metadata": {},
     "output_type": "execute_result"
    }
   ],
   "source": [
    "y = np.ones((3,5))\n",
    "y"
   ]
  },
  {
   "cell_type": "code",
   "execution_count": 9,
   "id": "bad8609f-4fe1-4859-b601-7242ce1205c1",
   "metadata": {},
   "outputs": [
    {
     "data": {
      "text/plain": [
       "array([[1, 1, 1, 1, 1],\n",
       "       [1, 1, 1, 1, 1],\n",
       "       [1, 1, 1, 1, 1]])"
      ]
     },
     "execution_count": 9,
     "metadata": {},
     "output_type": "execute_result"
    }
   ],
   "source": [
    "z = np.ones((3,5), dtype = int)\n",
    "z"
   ]
  },
  {
   "cell_type": "code",
   "execution_count": 10,
   "id": "4aae5edb-7e5c-45c6-a404-024985e98843",
   "metadata": {},
   "outputs": [
    {
     "data": {
      "text/plain": [
       "array([[ True,  True,  True,  True,  True],\n",
       "       [ True,  True,  True,  True,  True],\n",
       "       [ True,  True,  True,  True,  True]])"
      ]
     },
     "execution_count": 10,
     "metadata": {},
     "output_type": "execute_result"
    }
   ],
   "source": [
    "a = np.ones((3,5), dtype = bool)\n",
    "a"
   ]
  },
  {
   "cell_type": "markdown",
   "id": "7f970c45-57da-40fb-962a-fe428930a872",
   "metadata": {},
   "source": [
    "### np.zeros()\n",
    "np.zeros((rows,cols),dtype)"
   ]
  },
  {
   "cell_type": "code",
   "execution_count": 11,
   "id": "7dc72791-4e71-4b10-820d-f80166bc7fab",
   "metadata": {},
   "outputs": [
    {
     "data": {
      "text/plain": [
       "array([0., 0., 0., 0.])"
      ]
     },
     "execution_count": 11,
     "metadata": {},
     "output_type": "execute_result"
    }
   ],
   "source": [
    "x = np.zeros(4)\n",
    "x"
   ]
  },
  {
   "cell_type": "code",
   "execution_count": 12,
   "id": "23f58dc0-2c63-4f0c-854f-a34f61678b75",
   "metadata": {},
   "outputs": [
    {
     "data": {
      "text/plain": [
       "array([[0, 0, 0, 0, 0, 0, 0, 0],\n",
       "       [0, 0, 0, 0, 0, 0, 0, 0],\n",
       "       [0, 0, 0, 0, 0, 0, 0, 0],\n",
       "       [0, 0, 0, 0, 0, 0, 0, 0]])"
      ]
     },
     "execution_count": 12,
     "metadata": {},
     "output_type": "execute_result"
    }
   ],
   "source": [
    "y = np.zeros((4,8), dtype = int)\n",
    "y"
   ]
  },
  {
   "cell_type": "code",
   "execution_count": 13,
   "id": "b52f0e72-cd28-4ffd-8569-6a4be9da6dbc",
   "metadata": {},
   "outputs": [
    {
     "data": {
      "text/plain": [
       "array([[False, False, False, False, False, False, False, False],\n",
       "       [False, False, False, False, False, False, False, False],\n",
       "       [False, False, False, False, False, False, False, False],\n",
       "       [False, False, False, False, False, False, False, False]])"
      ]
     },
     "execution_count": 13,
     "metadata": {},
     "output_type": "execute_result"
    }
   ],
   "source": [
    "y = np.zeros((4,8), dtype = bool)\n",
    "y"
   ]
  },
  {
   "cell_type": "code",
   "execution_count": 14,
   "id": "aca142e3-c5f8-437d-8e53-e95771d9afe3",
   "metadata": {},
   "outputs": [
    {
     "data": {
      "text/plain": [
       "array([['', '', '', '', '', '', '', ''],\n",
       "       ['', '', '', '', '', '', '', ''],\n",
       "       ['', '', '', '', '', '', '', ''],\n",
       "       ['', '', '', '', '', '', '', '']], dtype='<U1')"
      ]
     },
     "execution_count": 14,
     "metadata": {},
     "output_type": "execute_result"
    }
   ],
   "source": [
    "y = np.zeros((4,8), dtype = str)\n",
    "y"
   ]
  },
  {
   "cell_type": "code",
   "execution_count": 15,
   "id": "be03ec46-14a7-45ca-93da-ed90d670c07a",
   "metadata": {},
   "outputs": [
    {
     "data": {
      "text/plain": [
       "array([[0., 0., 0., 0., 0., 0., 0., 0.],\n",
       "       [0., 0., 0., 0., 0., 0., 0., 0.],\n",
       "       [0., 0., 0., 0., 0., 0., 0., 0.],\n",
       "       [0., 0., 0., 0., 0., 0., 0., 0.]])"
      ]
     },
     "execution_count": 15,
     "metadata": {},
     "output_type": "execute_result"
    }
   ],
   "source": [
    "y = np.zeros((4,8), dtype = float)\n",
    "y"
   ]
  },
  {
   "cell_type": "markdown",
   "id": "9ce0d242-dc04-414e-a5df-b3da303c6177",
   "metadata": {},
   "source": [
    "### np.arange()\n",
    "np.arange (start,end,step)"
   ]
  },
  {
   "cell_type": "code",
   "execution_count": 16,
   "id": "12902f45-b552-46cb-8866-fe76e19ebc6e",
   "metadata": {},
   "outputs": [
    {
     "data": {
      "text/plain": [
       "array([ 1,  2,  3,  4,  5,  6,  7,  8,  9, 10, 11, 12, 13, 14, 15, 16, 17,\n",
       "       18, 19])"
      ]
     },
     "execution_count": 16,
     "metadata": {},
     "output_type": "execute_result"
    }
   ],
   "source": [
    "# It skips the index what we define in last.\n",
    "# so, here is 20 in last so it will only print from 1-19 and will skip the last digit i.e, 20.\n",
    "a = np.arange(1,20)\n",
    "a"
   ]
  },
  {
   "cell_type": "code",
   "execution_count": 17,
   "id": "23c979ef-48bb-4a6c-96a2-66da06b9c8ca",
   "metadata": {},
   "outputs": [
    {
     "data": {
      "text/plain": [
       "array([ 1,  3,  5,  7,  9, 11, 13, 15, 17, 19])"
      ]
     },
     "execution_count": 17,
     "metadata": {},
     "output_type": "execute_result"
    }
   ],
   "source": [
    "# Now we will define the steps\n",
    "a = np.arange(1,20,2)\n",
    "a"
   ]
  },
  {
   "cell_type": "code",
   "execution_count": 18,
   "id": "a3aa7b06-bebd-4b0c-a5f8-08c8c3e065c0",
   "metadata": {},
   "outputs": [
    {
     "data": {
      "text/plain": [
       "array([ 2,  4,  6,  8, 10, 12, 14, 16, 18])"
      ]
     },
     "execution_count": 18,
     "metadata": {},
     "output_type": "execute_result"
    }
   ],
   "source": [
    "a = np.arange(2,20,2)\n",
    "a"
   ]
  },
  {
   "cell_type": "markdown",
   "id": "e52a9001-52ad-4720-8bbc-4c3caf831da6",
   "metadata": {},
   "source": [
    "### arr.reshape()\n",
    "arr.reshape((rows,cols))\n",
    "\n",
    "It converts the Array into rows and columns."
   ]
  },
  {
   "cell_type": "code",
   "execution_count": 19,
   "id": "e9cca4c6-021d-42a0-a27d-b2302e19a292",
   "metadata": {},
   "outputs": [
    {
     "data": {
      "text/plain": [
       "array([[ 2,  4,  6],\n",
       "       [ 8, 10, 12],\n",
       "       [14, 16, 18]])"
      ]
     },
     "execution_count": 19,
     "metadata": {},
     "output_type": "execute_result"
    }
   ],
   "source": [
    "a = a.reshape((3,3))\n",
    "a"
   ]
  },
  {
   "cell_type": "code",
   "execution_count": 20,
   "id": "a75d0048-719c-4d63-84d5-837c8bb9cecd",
   "metadata": {},
   "outputs": [
    {
     "data": {
      "text/plain": [
       "array([ 1,  3,  5,  7,  9, 11, 13, 15, 17, 19, 21, 23, 25, 27, 29, 31, 33,\n",
       "       35, 37, 39, 41, 43, 45, 47, 49, 51, 53, 55, 57, 59, 61, 63, 65, 67,\n",
       "       69, 71, 73, 75, 77, 79, 81, 83, 85, 87, 89, 91, 93, 95, 97, 99])"
      ]
     },
     "execution_count": 20,
     "metadata": {},
     "output_type": "execute_result"
    }
   ],
   "source": [
    "b = np.arange(1,100,2)\n",
    "b"
   ]
  },
  {
   "cell_type": "code",
   "execution_count": 21,
   "id": "bd1b1615-f831-414d-9905-573e815fb7f4",
   "metadata": {},
   "outputs": [
    {
     "data": {
      "text/plain": [
       "array([[ 1,  3,  5,  7,  9],\n",
       "       [11, 13, 15, 17, 19],\n",
       "       [21, 23, 25, 27, 29],\n",
       "       [31, 33, 35, 37, 39],\n",
       "       [41, 43, 45, 47, 49],\n",
       "       [51, 53, 55, 57, 59],\n",
       "       [61, 63, 65, 67, 69],\n",
       "       [71, 73, 75, 77, 79],\n",
       "       [81, 83, 85, 87, 89],\n",
       "       [91, 93, 95, 97, 99]])"
      ]
     },
     "execution_count": 21,
     "metadata": {},
     "output_type": "execute_result"
    }
   ],
   "source": [
    "b = b.reshape((10,5))\n",
    "b"
   ]
  },
  {
   "cell_type": "markdown",
   "id": "3e83b4f8-24bc-48e1-be90-2c678569c286",
   "metadata": {},
   "source": [
    "### Flatten()\n",
    "It is the inverse process of reshaping.\n",
    "\n",
    "It converts multidimentional array into one dimentional single array i.e, one rows and multiple columns."
   ]
  },
  {
   "cell_type": "code",
   "execution_count": 22,
   "id": "5b52a77b-2997-475d-afa3-a7c61d6c47b8",
   "metadata": {},
   "outputs": [
    {
     "data": {
      "text/plain": [
       "array([ 1,  3,  5,  7,  9, 11, 13, 15, 17, 19, 21, 23, 25, 27, 29, 31, 33,\n",
       "       35, 37, 39, 41, 43, 45, 47, 49, 51, 53, 55, 57, 59, 61, 63, 65, 67,\n",
       "       69, 71, 73, 75, 77, 79, 81, 83, 85, 87, 89, 91, 93, 95, 97, 99])"
      ]
     },
     "execution_count": 22,
     "metadata": {},
     "output_type": "execute_result"
    }
   ],
   "source": [
    "b = b.flatten()\n",
    "b"
   ]
  },
  {
   "cell_type": "markdown",
   "id": "9bd7d0eb-dbe1-494f-818b-0754e72b6a9e",
   "metadata": {},
   "source": [
    "### Ravel \n",
    "It is also a reverse process of reshape."
   ]
  },
  {
   "cell_type": "code",
   "execution_count": 23,
   "id": "53851bb6-e74e-427a-b3be-094ac17f0475",
   "metadata": {},
   "outputs": [
    {
     "data": {
      "text/plain": [
       "array([ 2,  4,  6,  8, 10, 12, 14, 16, 18])"
      ]
     },
     "execution_count": 23,
     "metadata": {},
     "output_type": "execute_result"
    }
   ],
   "source": [
    "a = a.ravel()\n",
    "a"
   ]
  },
  {
   "cell_type": "markdown",
   "id": "b5fd55c3-244f-4024-923d-cb85dd63b389",
   "metadata": {},
   "source": [
    "### Ravel()\n",
    "(1) Return only reference/view of original array.\n",
    "\n",
    "(2) If you modify the array you would notice that the value of original array also changes.\n",
    "\n",
    "(3) Ravel is faster than flatten.\n",
    "\n",
    "(4) It does not occupy any memory.\n",
    "\n",
    "(5) ravel is library-level function.\n",
    "\n",
    "### Flatten()\n",
    "(1) Return copy of original array.\n",
    "\n",
    "(2) If you modify any value of this array value of original array is not affected.\n",
    "\n",
    "(3) Flatten is comparatively slower than ravel().\n",
    "\n",
    "(4) It occupies memory.\n",
    "\n",
    "(5) Flatten is a method of ndarray object.\n"
   ]
  },
  {
   "cell_type": "code",
   "execution_count": null,
   "id": "b82b7043-3261-45f8-86f9-7224172092b3",
   "metadata": {},
   "outputs": [],
   "source": []
  }
 ],
 "metadata": {
  "kernelspec": {
   "display_name": "Python 3 (ipykernel)",
   "language": "python",
   "name": "python3"
  },
  "language_info": {
   "codemirror_mode": {
    "name": "ipython",
    "version": 3
   },
   "file_extension": ".py",
   "mimetype": "text/x-python",
   "name": "python",
   "nbconvert_exporter": "python",
   "pygments_lexer": "ipython3",
   "version": "3.12.5"
  }
 },
 "nbformat": 4,
 "nbformat_minor": 5
}
