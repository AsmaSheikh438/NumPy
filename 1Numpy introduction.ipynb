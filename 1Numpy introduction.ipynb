{
 "cells": [
  {
   "cell_type": "markdown",
   "id": "b6d76f4c-906d-426b-969b-e29350a3bd3b",
   "metadata": {},
   "source": [
    "## Numpy Introduction and Basic Operation\n",
    "NumPy, or Numerical python , is a open source python liberary for scientific and mathematical computing."
   ]
  },
  {
   "cell_type": "markdown",
   "id": "bbfcaf4b-97ce-47fb-ba87-1284d164dbfb",
   "metadata": {},
   "source": [
    "#### Importing Liberary"
   ]
  },
  {
   "cell_type": "code",
   "execution_count": 1,
   "id": "73a39ba9-ceb8-4444-894d-2e69a8bc4eef",
   "metadata": {},
   "outputs": [],
   "source": [
    "import numpy as np"
   ]
  },
  {
   "cell_type": "markdown",
   "id": "6eb5d0bc-1b2a-4f87-be6b-d462d7dddb48",
   "metadata": {},
   "source": [
    "#### Creating List"
   ]
  },
  {
   "cell_type": "code",
   "execution_count": 2,
   "id": "4eac6917-b155-4b99-9111-72f211bed5f9",
   "metadata": {},
   "outputs": [
    {
     "name": "stdout",
     "output_type": "stream",
     "text": [
      "[1, 2, 3, 4, 5]\n"
     ]
    }
   ],
   "source": [
    "lst = [1,2,3,4,5]\n",
    "print(lst)"
   ]
  },
  {
   "cell_type": "markdown",
   "id": "4bfd8309-764d-4511-8443-3128ce8e1a2b",
   "metadata": {},
   "source": [
    "#### Diference between Python list and Numpy Array\n",
    "##### Python list :\n",
    "It stores only one dimentional data. Either like String, Boolean , Integer, Float.\n",
    "##### Numpy Array: \n",
    "It stores multidimentional Array including String, Boolean, Integer , Float."
   ]
  },
  {
   "cell_type": "markdown",
   "id": "2731853c-4674-4419-91fa-2e01528bd674",
   "metadata": {},
   "source": [
    "### Advantages of Numpy Array over Lists"
   ]
  },
  {
   "cell_type": "code",
   "execution_count": 3,
   "id": "33790e6d-e372-4a39-84c0-e4b07e8d64b0",
   "metadata": {},
   "outputs": [
    {
     "name": "stdout",
     "output_type": "stream",
     "text": [
      "1D Array\n",
      "[1 2 3 4 5]\n",
      "2D Array\n",
      "[[ 1  2  3  4  5]\n",
      " [ 6  7  8  9 10]]\n",
      "3D Array\n",
      "[[[ 1  2  3  4  5]\n",
      "  [ 6  7  8  9 10]\n",
      "  [11 12 13 14 15]]]\n"
     ]
    }
   ],
   "source": [
    "\n",
    "print ('1D Array')\n",
    "a = np.array([1,2,3,4,5])\n",
    "print(a)\n",
    "\n",
    "print ('2D Array')\n",
    "b = np.array([[1,2,3,4,5],\n",
    "             [6,7,8,9,10]])\n",
    "print(b)\n",
    "       \n",
    "\n",
    "\n",
    "print('3D Array')\n",
    "c = np.array([[[1,2,3,4,5],\n",
    "               [6,7,8,9,10],\n",
    "               [11,12,13,14,15]]])\n",
    "print(c)"
   ]
  },
  {
   "cell_type": "code",
   "execution_count": 4,
   "id": "d2ef377d-cd99-434d-b633-29cdf71dfb5a",
   "metadata": {},
   "outputs": [],
   "source": [
    "# Format of Defininng Numpy Array"
   ]
  },
  {
   "cell_type": "code",
   "execution_count": 5,
   "id": "911e8c4c-60fd-4e75-89c0-d931cd5bcb11",
   "metadata": {},
   "outputs": [
    {
     "data": {
      "text/plain": [
       "numpy.ndarray"
      ]
     },
     "execution_count": 5,
     "metadata": {},
     "output_type": "execute_result"
    }
   ],
   "source": [
    "type(a)"
   ]
  },
  {
   "cell_type": "markdown",
   "id": "7cc36c81-8ad9-4e9b-8571-e3e6fe622cc2",
   "metadata": {},
   "source": [
    "##### Size = Tell us about the number of element present in that array."
   ]
  },
  {
   "cell_type": "code",
   "execution_count": 6,
   "id": "91a4308f-4e89-463c-8dec-900d51f1e600",
   "metadata": {},
   "outputs": [
    {
     "name": "stdout",
     "output_type": "stream",
     "text": [
      "5\n",
      "10\n",
      "15\n"
     ]
    }
   ],
   "source": [
    "print(a.size)\n",
    "print(b.size)\n",
    "print(c.size)"
   ]
  },
  {
   "cell_type": "markdown",
   "id": "5bd2a921-5f20-4f42-86bb-b56b690fc27a",
   "metadata": {},
   "source": [
    "#####  Shape = (Rows and Colums)"
   ]
  },
  {
   "cell_type": "code",
   "execution_count": 7,
   "id": "9396d5b3-98cc-4bff-aeaf-31dfd156d609",
   "metadata": {},
   "outputs": [
    {
     "name": "stdout",
     "output_type": "stream",
     "text": [
      "(5,)\n",
      "(2, 5)\n",
      "(1, 3, 5)\n"
     ]
    }
   ],
   "source": [
    "print(a.shape)\n",
    "print(b.shape)\n",
    "print(c.shape) "
   ]
  },
  {
   "cell_type": "code",
   "execution_count": 8,
   "id": "b166d9ea-1ffa-4064-b5cd-b553fdf5e3c9",
   "metadata": {},
   "outputs": [],
   "source": [
    "# (1,3,5) it incicates that 1 array of 3 rows and 5 columns."
   ]
  },
  {
   "cell_type": "markdown",
   "id": "ab7406dd-7274-40c2-a51f-2f2d866c66fb",
   "metadata": {},
   "source": [
    "##### dtype = Types of data present in the array"
   ]
  },
  {
   "cell_type": "code",
   "execution_count": 9,
   "id": "94fcfc98-f1c9-4ba7-ac2e-6cb1fba48cd9",
   "metadata": {},
   "outputs": [
    {
     "name": "stdout",
     "output_type": "stream",
     "text": [
      "int32\n",
      "int32\n",
      "int32\n"
     ]
    }
   ],
   "source": [
    "print(a.dtype)\n",
    "print(b.dtype)\n",
    "print(c.dtype)"
   ]
  },
  {
   "cell_type": "code",
   "execution_count": 10,
   "id": "18174b88-d1d3-4f6b-9992-c90b510691a4",
   "metadata": {},
   "outputs": [
    {
     "name": "stdout",
     "output_type": "stream",
     "text": [
      "float64\n"
     ]
    }
   ],
   "source": [
    "# we can also get float dataype as when we have any decimal number in the guven array.\n",
    "\n",
    "d = np.array([[[1,2,3,4,5],\n",
    "               [6,7,8.1,9,10],\n",
    "               [11,12,13,14,15]]])\n",
    "print(d.dtype)"
   ]
  }
 ],
 "metadata": {
  "kernelspec": {
   "display_name": "Python 3 (ipykernel)",
   "language": "python",
   "name": "python3"
  },
  "language_info": {
   "codemirror_mode": {
    "name": "ipython",
    "version": 3
   },
   "file_extension": ".py",
   "mimetype": "text/x-python",
   "name": "python",
   "nbconvert_exporter": "python",
   "pygments_lexer": "ipython3",
   "version": "3.12.5"
  }
 },
 "nbformat": 4,
 "nbformat_minor": 5
}
